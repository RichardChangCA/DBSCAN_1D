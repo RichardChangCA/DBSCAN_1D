{
 "cells": [
  {
   "cell_type": "code",
   "execution_count": 1,
   "metadata": {
    "collapsed": false
   },
   "outputs": [
    {
     "name": "stdout",
     "output_type": "stream",
     "text": [
      "Discarded cluster(s): 0\n",
      "No. of clusters:  4\n",
      "Cluster  1  =  [18, 25, 17, 11, 20, 13]\n",
      "Cluster  2  =  [68]\n",
      "Cluster  3  =  [35, 39]\n",
      "Cluster  4  =  [55]\n"
     ]
    },
    {
     "data": {
      "image/png": "[encoded data removed]",
      "text/plain": [
       "<matplotlib.figure.Figure at 0x7ffaece3a4a8>"
      ]
     },
     "metadata": {},
     "output_type": "display_data"
    }
   ],
   "source": [
    "#importing some useful packages\n",
    "import matplotlib.pyplot as plt\n",
    "import numpy as np\n",
    "#import math\n",
    "from numpy.random import rand\n",
    "\n",
    "%matplotlib inline\n",
    "\n",
    "#MY_DBSCAN : a custom DBSCAN algorithm implementation for 1D values only\n",
    "class DBSCAN_1D:\n",
    "\n",
    "    # 1D distance\n",
    "    def distance_1D(self, num1, num2):\n",
    "        return abs(num1 - num2)\n",
    "        \n",
    "    def regionQuery(self, P):\n",
    "        neighbourPts = []\n",
    "        for point in self.D:\n",
    "            if point not in self.visited:\n",
    "                if self.distance_1D(P,point)<self.eps:\n",
    "                    neighbourPts.append(point)\n",
    "\n",
    "        return neighbourPts\n",
    "\n",
    "    def inAnyCluster(self, point):\n",
    "        for cluster in self.C:\n",
    "            if point in cluster:\n",
    "                return True\n",
    "        return False\n",
    "            \n",
    "    def expandCluster(self, P, neighbourPts):\n",
    "        # first append the current point to this new cluster\n",
    "        # self.C[self.c_n].append(P)\n",
    "        # for each of the points in the neighbourhood\n",
    "\n",
    "        for point in neighbourPts:\n",
    "            if point not in self.visited:\n",
    "                self.visited.append(point)\n",
    "                neighbourPts_2 = self.regionQuery(point)\n",
    "                \n",
    "                #if len(neighbourPts_2) >= self.MinPts:\n",
    "                # adds all the neighbours to the list of neighbours\n",
    "                # this includes previous points already in the list potentially, but we don't care\n",
    "                # as those will be filtered by the visited list\n",
    "                neighbourPts += neighbourPts_2 \n",
    "                # adds the point to the cluster if not in any cluster yet\n",
    "                if not self.inAnyCluster(point):\n",
    "                    #print(\"Adding \", point, \" to the cluster \", self.C[self.c_n])\n",
    "                    self.C[self.c_n].append(point)\n",
    "                \n",
    "\n",
    "    def plot_clusters(self):\n",
    "        print (\"Discarded cluster(s):\", len(self.noise))\n",
    "        count = 0\n",
    "        for noise_cluster in self.noise:\n",
    "            count = count +1\n",
    "            print(\"Discarded cluster \", count, \" = \", noise_cluster)\n",
    "            \n",
    "        \n",
    "        print (\"No. of clusters: \" , len(self.C))\n",
    "        count = 0\n",
    "        for cluster in self.C:\n",
    "            col =[rand(1),rand(1),rand(1)]\n",
    "            count = count +1 #print (cluster)\n",
    "            plt.scatter([i for i in cluster],[i for i in cluster],color=col)\n",
    "            print(\"Cluster \", count, \" = \", cluster)\n",
    "        plt.show()\n",
    "        \n",
    "\n",
    "    \n",
    "    def __init__(self,D,eps,MinPts):\n",
    "        self.D = D\n",
    "        self.eps = eps\n",
    "        self.MinPts = MinPts\n",
    "        self.noise = []\n",
    "        self.visited = []\n",
    "        self.C = []\n",
    "        self.c_n = -1\n",
    "        \n",
    "        # run through all the points in the data\n",
    "        for point in D:\n",
    "            self.visited.append(point) #marking point as visited\n",
    "            \n",
    "            # gets all the neighbouring points within the distance defined by eps\n",
    "            neighbourPts = self.regionQuery(point)\n",
    "\n",
    "            if not self.inAnyCluster(point):\n",
    "                self.C.append([])\n",
    "                self.c_n+=1\n",
    "                #print(\"Adding \", point, \" to the cluster \", self.C[self.c_n])\n",
    "                self.C[self.c_n].append(point)\n",
    "                # see if we can expand the cluster further by adding points \n",
    "                # until there is a gap of eps\n",
    "                self.expandCluster(point, neighbourPts)\n",
    "            # point was completely expanded and cluster is complete\n",
    "            \n",
    "            # if the length of the cluster is not long enough discard it\n",
    "            if len(self.C[self.c_n]) < (self.MinPts):\n",
    "                self.noise.append(self.C[self.c_n])\n",
    "                del(self.C[self.c_n])\n",
    "                self.c_n-=1\n",
    "\n",
    "#Test MY_DBSCAN\n",
    "#eps = input(\"enter eps\")\n",
    "num_elements = 10\n",
    "eps = 10\n",
    "MinPts = 1\n",
    "x=(100*rand(num_elements))\n",
    "l=[]\n",
    "for i in range(num_elements):\n",
    "     l.append(int(x[i]))\n",
    "\n",
    "#l = [[1],[5],[22],[54],[56]]\n",
    "my_dbscan = DBSCAN_1D(l,eps,MinPts)\n",
    "my_dbscan.plot_clusters()"
   ]
  },
  {
   "cell_type": "code",
   "execution_count": null,
   "metadata": {
    "collapsed": true
   },
   "outputs": [],
   "source": []
  }
 ],
 "metadata": {
  "anaconda-cloud": {},
  "kernelspec": {
   "display_name": "Python 3",
   "language": "python",
   "name": "python3"
  },
  "language_info": {
   "codemirror_mode": {
    "name": "ipython",
    "version": 3
   },
   "file_extension": ".py",
   "mimetype": "text/x-python",
   "name": "python",
   "nbconvert_exporter": "python",
   "pygments_lexer": "ipython3",
   "version": "3.5.2"
  },
  "widgets": {
   "state": {},
   "version": "1.1.2"
  }
 },
 "nbformat": 4,
 "nbformat_minor": 1
}
